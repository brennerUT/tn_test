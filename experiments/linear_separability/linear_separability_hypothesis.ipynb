{
 "cells": [
  {
   "cell_type": "code",
   "execution_count": 1,
   "metadata": {},
   "outputs": [],
   "source": [
    "%load_ext autoreload\n",
    "%autoreload 2\n",
    "\n",
    "import numpy as np\n",
    "import matplotlib.pyplot as plt\n",
    "from jz_utils import *\n",
    "\n",
    "%matplotlib inline"
   ]
  },
  {
   "cell_type": "code",
   "execution_count": 2,
   "metadata": {},
   "outputs": [],
   "source": [
    "datasets = [\n",
    "    '10x',\n",
    "    'Biase',\n",
    "    'Birey',\n",
    "    'Buettner',\n",
    "    'Deng',\n",
    "    'DropSeq',\n",
    "    'inDrop',\n",
    "    'Joost',\n",
    "    'Kiselev',\n",
    "    'Kolodziejczyk',\n",
    "    'Patel',\n",
    "    'Pollen',\n",
    "    'Resolve',\n",
    "    'Ting',\n",
    "    'Treutlein',\n",
    "    'Usoskin',\n",
    "    'Yan',\n",
    "    'Zeisel'\n",
    "]\n",
    "\n",
    "dirname = '/root/mount/datasets/'"
   ]
  },
  {
   "cell_type": "code",
   "execution_count": 73,
   "metadata": {},
   "outputs": [
    {
     "name": "stdout",
     "output_type": "stream",
     "text": [
      "            10x |  39999 samples,   9 classes. Train acc: 0.96 +/- 0.00, Valid acc: 0.95 +/- 0.00\n",
      "          Biase |     49 samples,   3 classes. Train acc: 1.00 +/- 0.00, Valid acc: 0.96 +/- 0.04\n",
      "          Birey |  11835 samples,  14 classes. Train acc: 1.00 +/- 0.00, Valid acc: 0.92 +/- 0.00\n",
      "       Buettner |    182 samples,   3 classes. Train acc: 1.00 +/- 0.00, Valid acc: 0.65 +/- 0.02\n",
      "           Deng |    264 samples,   9 classes. Train acc: 1.00 +/- 0.00, Valid acc: 0.97 +/- 0.01\n",
      "        DropSeq |  44808 samples,  39 classes. Train acc: 0.99 +/- 0.00, Valid acc: 0.96 +/- 0.00\n",
      "          Joost |   1422 samples,  13 classes. Train acc: 1.00 +/- 0.00, Valid acc: 0.81 +/- 0.01\n",
      "  Kolodziejczyk |    704 samples,   3 classes. Train acc: 1.00 +/- 0.00, Valid acc: 1.00 +/- 0.00\n",
      "          Patel |    430 samples,   5 classes. Train acc: 1.00 +/- 0.00, Valid acc: 0.88 +/- 0.02\n",
      "         Pollen |    249 samples,  11 classes. Train acc: 1.00 +/- 0.00, Valid acc: 0.98 +/- 0.01\n",
      "           Ting |    149 samples,   5 classes. Train acc: 1.00 +/- 0.00, Valid acc: 0.96 +/- 0.01\n",
      "      Treutlein |     77 samples,   4 classes. Train acc: 1.00 +/- 0.00, Valid acc: 0.84 +/- 0.02\n",
      "        Usoskin |    696 samples,   5 classes. Train acc: 1.00 +/- 0.00, Valid acc: 0.91 +/- 0.01\n",
      "            Yan |    118 samples,   6 classes. Train acc: 1.00 +/- 0.00, Valid acc: 1.00 +/- 0.00\n",
      "         Zeisel |   3005 samples,   9 classes. Train acc: 1.00 +/- 0.00, Valid acc: 0.96 +/- 0.01\n"
     ]
    }
   ],
   "source": [
    "# after running ls_script.py, which produces an output pickle file of results\n",
    "\n",
    "import pickle\n",
    "d = pickle.load(open('ls_script_output.pickle', 'rb'))\n",
    "\n",
    "for dataset in datasets:\n",
    "    if dataset not in d: continue\n",
    "    X, Y = load_dataset(dirname, dataset)\n",
    "    X, Y = preprocess(X, Y, verbose=False)\n",
    "    t = d[dataset]['train_accs']\n",
    "    v = d[dataset]['valid_accs']\n",
    "    print('%15s | %6s samples, %3s classes. Train acc: %.2f +/- %.2f, Valid acc: %.2f +/- %.2f' \\\n",
    "          %(dataset, len(X), len(np.unique(Y)), np.mean(t), np.std(t)/np.sqrt(len(t)), \n",
    "            np.mean(v), np.std(v)/np.sqrt(len(v))))"
   ]
  },
  {
   "cell_type": "code",
   "execution_count": 8,
   "metadata": {},
   "outputs": [
    {
     "name": "stdout",
     "output_type": "stream",
     "text": [
      "\\begin{tabular}{lrrll}\n",
      "\\toprule\n",
      "       dataset &  number of samples &  number of classes &      train acc &      valid acc \\\\\n",
      "\\midrule\n",
      "           10x &              39999 &                  9 &  0.96 +/- 0.00 &  0.95 +/- 0.00 \\\\\n",
      "         Biase &                 49 &                  3 &  1.00 +/- 0.00 &  0.96 +/- 0.04 \\\\\n",
      "         Birey &              11835 &                 14 &  1.00 +/- 0.00 &  0.92 +/- 0.00 \\\\\n",
      "      Buettner &                182 &                  3 &  1.00 +/- 0.00 &  0.65 +/- 0.02 \\\\\n",
      "          Deng &                264 &                  9 &  1.00 +/- 0.00 &  0.97 +/- 0.01 \\\\\n",
      "       DropSeq &              44808 &                 39 &  0.99 +/- 0.00 &  0.96 +/- 0.00 \\\\\n",
      "         Joost &               1422 &                 13 &  1.00 +/- 0.00 &  0.81 +/- 0.01 \\\\\n",
      " Kolodziejczyk &                704 &                  3 &  1.00 +/- 0.00 &  1.00 +/- 0.00 \\\\\n",
      "         Patel &                430 &                  5 &  1.00 +/- 0.00 &  0.88 +/- 0.02 \\\\\n",
      "        Pollen &                249 &                 11 &  1.00 +/- 0.00 &  0.98 +/- 0.01 \\\\\n",
      "          Ting &                149 &                  5 &  1.00 +/- 0.00 &  0.96 +/- 0.01 \\\\\n",
      "     Treutlein &                 77 &                  4 &  1.00 +/- 0.00 &  0.84 +/- 0.02 \\\\\n",
      "       Usoskin &                696 &                  5 &  1.00 +/- 0.00 &  0.91 +/- 0.01 \\\\\n",
      "           Yan &                118 &                  6 &  1.00 +/- 0.00 &  1.00 +/- 0.00 \\\\\n",
      "        Zeisel &               3005 &                  9 &  1.00 +/- 0.00 &  0.96 +/- 0.01 \\\\\n",
      "\\bottomrule\n",
      "\\end{tabular}\n",
      "\n"
     ]
    }
   ],
   "source": [
    "import pandas as pd\n",
    "\n",
    "tabledf = pd.DataFrame.from_dict(table)\n",
    "\n",
    "# Print latex for table\n",
    "print(tabledf.to_latex(index=False))"
   ]
  }
 ],
 "metadata": {
  "kernelspec": {
   "display_name": "Python 3",
   "language": "python",
   "name": "python3"
  },
  "language_info": {
   "codemirror_mode": {
    "name": "ipython",
    "version": 3
   },
   "file_extension": ".py",
   "mimetype": "text/x-python",
   "name": "python",
   "nbconvert_exporter": "python",
   "pygments_lexer": "ipython3",
   "version": "3.6.6"
  }
 },
 "nbformat": 4,
 "nbformat_minor": 2
}
