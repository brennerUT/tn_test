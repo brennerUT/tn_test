{
 "cells": [
  {
   "cell_type": "code",
   "execution_count": 1,
   "metadata": {},
   "outputs": [
    {
     "name": "stderr",
     "output_type": "stream",
     "text": [
      "/opt/conda/lib/python3.6/importlib/_bootstrap.py:219: RuntimeWarning: numpy.dtype size changed, may indicate binary incompatibility. Expected 96, got 88\n",
      "  return f(*args, **kwds)\n",
      "/opt/conda/lib/python3.6/importlib/_bootstrap.py:219: RuntimeWarning: numpy.dtype size changed, may indicate binary incompatibility. Expected 96, got 88\n",
      "  return f(*args, **kwds)\n"
     ]
    }
   ],
   "source": [
    "%load_ext autoreload\n",
    "%autoreload 2\n",
    "\n",
    "import sys\n",
    "sys.path.insert(0, '../')\n",
    "\n",
    "import os\n",
    "import time\n",
    "import h5py\n",
    "import pickle\n",
    "import numpy as np\n",
    "import pandas as pd\n",
    "import matplotlib.pyplot as plt\n",
    "\n",
    "import itertools\n",
    "import scanpy as sc\n",
    "from truncated_normal import truncated_normal as tn\n",
    "from scipy.stats import ttest_ind\n",
    "\n",
    "import figure_utils as utils"
   ]
  },
  {
   "cell_type": "code",
   "execution_count": 2,
   "metadata": {},
   "outputs": [],
   "source": [
    "# Load data\n",
    "def load_mat_h5f(flname):\n",
    "    h5f = h5py.File(flname,'r')\n",
    "    X = h5f['dataset_1'][:]\n",
    "    h5f.close()\n",
    "    return X\n",
    "\n",
    "\n",
    "def load_dataset(dirname, pref, get_features=False):\n",
    "    \n",
    "    X_path = os.path.join(dirname, pref, '%s_expr.txt'%(pref))\n",
    "    Y_path = os.path.join(dirname, pref, '%s_labels.txt'%(pref))\n",
    "    features_path = os.path.join(dirname, pref, '%s_features.txt'%(pref))\n",
    "\n",
    "    if os.path.isfile(Y_path):\n",
    "        Y = np.loadtxt(Y_path, dtype=str, delimiter='aSDFASDF')\n",
    "    else:\n",
    "        print('No labels found. Exiting.')\n",
    "        return\n",
    "    \n",
    "    if os.path.isfile(X_path.replace('.txt', '.h5')):\n",
    "        X = load_mat_h5f(X_path.replace('.txt', '.h5'))\n",
    "    elif os.path.isfile(X_path):\n",
    "        X = np.loadtxt(X_path).T\n",
    "    else:\n",
    "        print('No data found. Exiting.')\n",
    "        return\n",
    "       \n",
    "    if get_features and os.path.isfile(features_path):\n",
    "        features = np.loadtxt(features_path, dtype=str)\n",
    "        return X, Y, features\n",
    "    \n",
    "    return X, Y"
   ]
  },
  {
   "cell_type": "code",
   "execution_count": 3,
   "metadata": {},
   "outputs": [],
   "source": [
    "def evaluate_overclustering(adata, Y_oc, features, picklefile,\n",
    "                            plot_stuff=True, ngenes=100, ignore_list=[]):\n",
    "    \n",
    "    if os.path.isfile(picklefile):\n",
    "        results = pickle.load(open(picklefile, 'rb'))\n",
    "    else:\n",
    "        results = {}\n",
    "    \n",
    "    for ident0, ident1 in itertools.combinations(np.unique(Y_oc), 2):\n",
    "        \n",
    "        if ident0 in ignore_list or ident1 in ignore_list:\n",
    "            continue\n",
    "\n",
    "        print(ident0, ident1)\n",
    "        \n",
    "        np.random.seed(1)\n",
    "\n",
    "        # Split preprocessed data\n",
    "        y = adata.X[Y_oc == ident0]\n",
    "        z = adata.X[Y_oc == ident1]\n",
    "\n",
    "        # TN test using existing labels\n",
    "        p_t = ttest_ind(y, z)[1]\n",
    "        genes_to_test = np.argsort(p_t)[:ngenes] # Choose a bunch of genes based on t-test\n",
    "        genes_of_interest = features[genes_to_test]\n",
    "\n",
    "        if (ident0, ident1) not in results:\n",
    "            p_tn, y, z = tn.tn_test(y, z, genes_to_test=genes_to_test,\n",
    "                                    split_prop=0.5, eps=1e-2,\n",
    "                                    verbose=True, learning_rate=1.,\n",
    "                                    num_iters=10000, plot_likelihood=True,\n",
    "                                    return_split=True)\n",
    "            results[(ident0, ident1)] = (p_tn, y, z)\n",
    "            pickle.dump(results, open(picklefile, 'wb'))\n",
    "        else:\n",
    "            p_tn, y, z = results[(ident0, ident1)]\n",
    "\n",
    "        if plot_stuff:\n",
    "            view_genes(y, z, features, genes_of_interest[:8], p_t=p_t, p_tn=p_tn)    \n",
    "            \n",
    "    return results\n",
    "\n",
    "\n",
    "def get_diff_tups(Y, results, ngenes=100, nmean=10, verbose=False):\n",
    "    \n",
    "    out = []\n",
    "    start = time.time()\n",
    "    for ident0, ident1 in results.keys():\n",
    "        p_tn, _, _ = results[(ident0, ident1)]\n",
    "        p_t = np.sort(ttest_ind(adata.X[Y == ident0], adata.X[Y == ident1])[1])[:ngenes]\n",
    "        gap = np.mean(-np.log10(p_t[:nmean]))-np.mean(-np.log10(p_tn[:nmean]))\n",
    "        out.append((gap, ident0, ident1))\n",
    "        if verbose:\n",
    "            print('\\rComparing %10s v %10s (%.2f s elapsed)' \\\n",
    "                  %(ident0, ident1, time.time()-start), end='')\n",
    "            \n",
    "    return out\n",
    "\n",
    "    \n",
    "def Kolodziejczyk_oc_experiment(adata, resolution, plot_stuff=True):\n",
    "\n",
    "    # Overclustering\n",
    "    sc.tl.louvain(adata, resolution=resolution)\n",
    "    Y_oc = np.array(adata.obs['louvain'].astype(int))\n",
    "    if plot_stuff:\n",
    "        utils.plot_labels_legend(tsne[:, 0], tsne[:, 1], Y_oc)\n",
    "        plt.show()\n",
    "\n",
    "    picklefile = '%s_tntest_resolution%s.pickle'%(pref, resolution)\n",
    "    results = evaluate_overclustering(adata, Y_oc, features, picklefile, plot_stuff=plot_stuff)\n",
    "    \n",
    "    return Y_oc, results"
   ]
  },
  {
   "cell_type": "markdown",
   "metadata": {},
   "source": [
    "### Kolodziejczyk"
   ]
  },
  {
   "cell_type": "code",
   "execution_count": 4,
   "metadata": {},
   "outputs": [
    {
     "name": "stderr",
     "output_type": "stream",
     "text": [
      "/opt/conda/lib/python3.6/site-packages/sklearn/metrics/pairwise.py:257: RuntimeWarning: invalid value encountered in sqrt\n",
      "  return distances if squared else np.sqrt(distances, out=distances)\n"
     ]
    }
   ],
   "source": [
    "dirname = '/root/mount/datasets/'\n",
    "pref = 'Kolodziejczyk'\n",
    "X, _ = load_dataset(dirname, pref, get_features=False)\n",
    "features = np.arange(X.shape[1]).astype(str)\n",
    "tsne = np.loadtxt(os.path.join(dirname, '%s/%s_reducedim_coor.txt'%(pref, pref)))\n",
    "\n",
    "# Preprocessing\n",
    "adata = sc.AnnData(X=X)\n",
    "sc.pp.filter_cells(adata, min_genes=200)\n",
    "sc.pp.filter_genes(adata, min_cells=3)\n",
    "sc.tl.pca(adata, svd_solver='arpack')\n",
    "sc.pp.neighbors(adata, n_neighbors=10, n_pcs=40)"
   ]
  },
  {
   "cell_type": "code",
   "execution_count": 5,
   "metadata": {},
   "outputs": [
    {
     "name": "stdout",
     "output_type": "stream",
     "text": [
      "0 1\n",
      "0 2\n"
     ]
    },
    {
     "name": "stderr",
     "output_type": "stream",
     "text": [
      "/opt/conda/lib/python3.6/site-packages/scipy/stats/stats.py:3875: RuntimeWarning: invalid value encountered in sqrt\n",
      "  denom = np.sqrt(svar * (1.0 / n1 + 1.0 / n2))\n",
      "/opt/conda/lib/python3.6/site-packages/scipy/stats/_distn_infrastructure.py:879: RuntimeWarning: invalid value encountered in greater\n",
      "  return (self.a < x) & (x < self.b)\n",
      "/opt/conda/lib/python3.6/site-packages/scipy/stats/_distn_infrastructure.py:879: RuntimeWarning: invalid value encountered in less\n",
      "  return (self.a < x) & (x < self.b)\n",
      "/opt/conda/lib/python3.6/site-packages/scipy/stats/_distn_infrastructure.py:1821: RuntimeWarning: invalid value encountered in less_equal\n",
      "  cond2 = cond0 & (x <= self.a)\n"
     ]
    },
    {
     "name": "stdout",
     "output_type": "stream",
     "text": [
      "1 2\n"
     ]
    },
    {
     "data": {
      "image/png": "[encoded data removed]",
      "text/plain": [
       "<Figure size 432x288 with 1 Axes>"
      ]
     },
     "metadata": {},
     "output_type": "display_data"
    },
    {
     "name": "stderr",
     "output_type": "stream",
     "text": [
      "/opt/conda/lib/python3.6/site-packages/ipykernel_launcher.py:51: RuntimeWarning: divide by zero encountered in log10\n",
      "/opt/conda/lib/python3.6/site-packages/ipykernel_launcher.py:51: RuntimeWarning: invalid value encountered in double_scalars\n"
     ]
    },
    {
     "name": "stdout",
     "output_type": "stream",
     "text": [
      "0 1 nan\n",
      "1 2 -inf\n",
      "0 2 -inf\n"
     ]
    }
   ],
   "source": [
    "Y1, results1 = Kolodziejczyk_oc_experiment(adata, 0.4, plot_stuff=False)\n",
    "\n",
    "utils.plot_labels_legend(tsne[:, 0], tsne[:, 1], np.array(['c%s'%(i) for i in Y1]), add_counts=True)\n",
    "plt.legend(bbox_to_anchor=(1.4, 1))\n",
    "plt.axis('off')\n",
    "plt.savefig('figures/Kolodziejczyk_oc1_tsne.pdf', format='pdf', dpi=500, bbox_inches='tight')\n",
    "plt.show()\n",
    "\n",
    "d = get_diff_tups(Y1, results1)\n",
    "for gap, c0, c1 in sorted(d, reverse=True)[:5]:\n",
    "    print(c0, c1, gap)"
   ]
  },
  {
   "cell_type": "code",
   "execution_count": 6,
   "metadata": {},
   "outputs": [
    {
     "name": "stdout",
     "output_type": "stream",
     "text": [
      "0 1\n",
      "0 2\n",
      "0 3\n"
     ]
    },
    {
     "name": "stderr",
     "output_type": "stream",
     "text": [
      "/opt/conda/lib/python3.6/site-packages/scipy/stats/stats.py:3875: RuntimeWarning: invalid value encountered in sqrt\n",
      "  denom = np.sqrt(svar * (1.0 / n1 + 1.0 / n2))\n",
      "/opt/conda/lib/python3.6/site-packages/scipy/stats/_distn_infrastructure.py:879: RuntimeWarning: invalid value encountered in greater\n",
      "  return (self.a < x) & (x < self.b)\n",
      "/opt/conda/lib/python3.6/site-packages/scipy/stats/_distn_infrastructure.py:879: RuntimeWarning: invalid value encountered in less\n",
      "  return (self.a < x) & (x < self.b)\n",
      "/opt/conda/lib/python3.6/site-packages/scipy/stats/_distn_infrastructure.py:1821: RuntimeWarning: invalid value encountered in less_equal\n",
      "  cond2 = cond0 & (x <= self.a)\n"
     ]
    },
    {
     "name": "stdout",
     "output_type": "stream",
     "text": [
      "0 4\n",
      "0 5\n",
      "1 2\n",
      "1 3\n",
      "1 4\n",
      "1 5\n",
      "2 3\n",
      "2 4\n",
      "2 5\n",
      "3 4\n",
      "3 5\n",
      "4 5\n"
     ]
    },
    {
     "data": {
      "image/png": "[encoded data removed]",
      "text/plain": [
       "<Figure size 432x288 with 1 Axes>"
      ]
     },
     "metadata": {},
     "output_type": "display_data"
    },
    {
     "name": "stderr",
     "output_type": "stream",
     "text": [
      "/opt/conda/lib/python3.6/site-packages/ipykernel_launcher.py:51: RuntimeWarning: divide by zero encountered in log10\n"
     ]
    },
    {
     "name": "stdout",
     "output_type": "stream",
     "text": [
      "2 5 13.443461319225765\n",
      "0 3 12.561764196790214\n",
      "4 5 11.462421049478943\n",
      "2 4 3.929990569602923\n",
      "3 5 -inf\n"
     ]
    }
   ],
   "source": [
    "Y2, results2 = Kolodziejczyk_oc_experiment(adata, 1.0, plot_stuff=False)\n",
    "\n",
    "utils.plot_labels_legend(tsne[:, 0], tsne[:, 1], np.array(['c%s'%(i) for i in Y2]), add_counts=True)\n",
    "plt.legend(bbox_to_anchor=(1.4, 1))\n",
    "plt.axis('off')\n",
    "plt.savefig('figures/Kolodziejczyk_oc2_tsne.pdf', format='pdf', dpi=500, bbox_inches='tight')\n",
    "plt.show()\n",
    "\n",
    "d = get_diff_tups(Y2, results2)\n",
    "for gap, c0, c1 in sorted(d, reverse=True)[:5]:\n",
    "    print(c0, c1, gap)"
   ]
  }
 ],
 "metadata": {
  "kernelspec": {
   "display_name": "Python 3",
   "language": "python",
   "name": "python3"
  },
  "language_info": {
   "codemirror_mode": {
    "name": "ipython",
    "version": 3
   },
   "file_extension": ".py",
   "mimetype": "text/x-python",
   "name": "python",
   "nbconvert_exporter": "python",
   "pygments_lexer": "ipython3",
   "version": "3.6.6"
  }
 },
 "nbformat": 4,
 "nbformat_minor": 2
}
